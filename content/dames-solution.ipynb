{
  "cells": [
    {
      "cell_type": "markdown",
      "metadata": {},
      "source": [
        "## Dames en Python \n",
        "\n",
        "Dans ce tutoriel, vous allez apprendre comment créer un plateau pour un jeu de dames en utilisant le langage de programmation Python. Par ailleurs, nous allons aborder comment manipuler le tableau qui représente le plateau de jeu, les cases, et les pions.\n",
        "\n",
        "Le jeu de dames se joue sur un plateau de 10×10, alternant des cases blanches et noires. Les pions sont soit blancs, soit noirs.\n",
        "\n",
        "Pour lire un tableau de pions: \n",
        "* `0` pas de pion\n",
        "* `1` pion noir \n",
        "* `2` pion blanc"
      ]
    },
    {
      "cell_type": "markdown",
      "metadata": {},
      "source": [
        "## Plateaux de jeu "
      ]
    },
    {
      "cell_type": "code",
      "execution_count": 6,
      "metadata": {
        "trusted": true
      },
      "outputs": [],
      "source": [
        "# 0 pas de pion, 1 noir, 2 blanc \n",
        "pions_initial = [0, 1, 0, 1, 0, 1, 0, 1, 0, 1, \n",
        "                 1, 0, 1, 0, 1, 0, 1, 0, 1, 0,\n",
        "                 0, 1, 0, 1, 0, 1, 0, 1, 0, 1, \n",
        "                 1, 0, 1, 0, 1, 0, 1, 0, 1, 0,\n",
        "                 0, 0, 0, 0, 0, 0, 0, 0, 0, 0, \n",
        "                 0, 0, 0, 0, 0, 0, 0, 0, 0, 0, \n",
        "                 0, 2, 0, 2, 0, 2, 0, 2, 0, 2, \n",
        "                 2, 0, 2, 0, 2, 0, 2, 0, 2, 0,\n",
        "                 0, 2, 0, 2, 0, 2, 0, 2, 0, 2, \n",
        "                 2, 0, 2, 0, 2, 0, 2, 0, 2, 0 ] "
      ]
    },
    {
      "cell_type": "code",
      "execution_count": 13,
      "metadata": {
        "trusted": true
      },
      "outputs": [],
      "source": [
        "partie_1 = [\n",
        "            0, 0, 0, 1, 0, 0, 0, 1, 0, 1, \n",
        "            1, 0, 1, 0, 1, 0, 0, 0, 1, 0,\n",
        "            0, 0, 0, 1, 0, 1, 0, 1, 0, 1, \n",
        "            1, 0, 1, 0, 1, 0, 0, 0, 1, 0,\n",
        "            0, 1, 0, 1, 0, 0, 0, 0, 0, 0, \n",
        "            0, 0, 1, 0, 2, 0, 2, 0, 0, 0, \n",
        "            0, 0, 0, 0, 0, 2, 0, 0, 0, 2, \n",
        "            2, 0, 0, 0, 0, 0, 2, 0, 0, 0,\n",
        "            0, 0, 0, 2, 0, 2, 0, 2, 0, 2, \n",
        "            2, 0, 2, 0, 2, 0, 2, 0, 2, 0 ] "
      ]
    },
    {
      "cell_type": "markdown",
      "metadata": {},
      "source": [
        "## Exercice 1 \n",
        "\n",
        "Comptez le nombre de pions noirs et blancs pour le plateau `pions_initial` et pour la `partie_1`. \n",
        "\n",
        "### Aides: \n",
        "\n",
        "Créez des variables pour compter les pions: \n",
        "https://python.sdv.univ-paris-diderot.fr/02_variables/ \n",
        "\n",
        "Faites une boucle pour itérer sur les cases du plateau:\n",
        "https://python.sdv.univ-paris-diderot.fr/05_boucles_comparaisons/"
      ]
    },
    {
      "cell_type": "code",
      "execution_count": 14,
      "metadata": {
        "trusted": true
      },
      "outputs": [
        {
          "name": "stdout",
          "output_type": "stream",
          "text": [
            "partie 1 : blancs  15  noirs  18\n",
            "partie initiale : blancs  20  noirs  20\n"
          ]
        }
      ],
      "source": [
        "## Votre code ici. \n",
        "noirs = 0\n",
        "blancs = 0\n",
        "for pion in partie_1:\n",
        "    if pion == 1:\n",
        "        noirs += 1\n",
        "    elif pion == 2:\n",
        "        blancs += 1\n",
        "print(\"partie 1 : blancs \",blancs, \" noirs \", noirs)\n",
        "\n",
        " \n",
        "noirs = 0\n",
        "blancs = 0\n",
        "for pion in pions_initial:\n",
        "    if pion == 1:\n",
        "        noirs += 1\n",
        "    elif pion == 2:\n",
        "        blancs += 1\n",
        "print(\"partie initiale : blancs \",blancs, \" noirs \", noirs)\n",
        "\n"
      ]
    },
    {
      "cell_type": "markdown",
      "metadata": {},
      "source": [
        "## Exercice 2 \n",
        "\n",
        "Affichez si le joueur blanc ou le joueur noir est plus proche de la victoire \n",
        "juste en comptant les pions. \n",
        "\n",
        "Affichez un texte avec `print()` et faites les conditions avec `if`. "
      ]
    },
    {
      "cell_type": "code",
      "execution_count": 15,
      "metadata": {},
      "outputs": [
        {
          "name": "stdout",
          "output_type": "stream",
          "text": [
            "partie 1 : blancs  15  noirs  18\n",
            "Les noirs gagnent\n"
          ]
        }
      ],
      "source": [
        "## Votre code ici \n",
        "\n",
        "noirs = 0\n",
        "blancs = 0\n",
        "for pion in partie_1:\n",
        "    if pion == 1:\n",
        "        noirs += 1\n",
        "    elif pion == 2:\n",
        "        blancs += 1\n",
        "print(\"partie 1 : blancs \",blancs, \" noirs \", noirs)\n",
        "\n",
        "if noirs > blancs:\n",
        "  print(\"Les noirs gagnent\")\n",
        "elif noirs == blancs: \n",
        "  print(\"Egalité\")\n",
        "else:\n",
        "  print(\"Les blancs gagnent\")\n"
      ]
    },
    {
      "cell_type": "markdown",
      "metadata": {},
      "source": [
        "## Exercice 3 \n",
        "\n",
        "On notera les cases noires et blanches avec des `0` et des `1` dans le tableau de référence.\n",
        "Le plateau `couleurs_plateau` représente les couleurs du plateau de jeu **sans les pions**. \n",
        "\n",
        "Écrivez du code pour vérifier si le plateau est valide. \n",
        "Dans le jeu de dames, les pions ne sont placés que sur des cases noires !\n",
        "\n",
        "Le plateau `plateau_err` est proposé comme plateau invalide. Faites un message d'erreur qui indique le problème. "
      ]
    },
    {
      "cell_type": "code",
      "execution_count": 16,
      "metadata": {
        "trusted": true
      },
      "outputs": [],
      "source": [
        "# 0 Blanc, 1, noir. \n",
        "couleurs_plateau =  [0, 1, 0, 1, 0, 1, 0, 1, 0, 1, \n",
        "                     1, 0, 1, 0, 1, 0, 1, 0, 1, 0,\n",
        "                     0, 1, 0, 1, 0, 1, 0, 1, 0, 1, \n",
        "                     1, 0, 1, 0, 1, 0, 1, 0, 1, 0,\n",
        "                     0, 1, 0, 1, 0, 1, 0, 1, 0, 1, \n",
        "                     1, 0, 1, 0, 1, 0, 1, 0, 1, 0,\n",
        "                     0, 1, 0, 1, 0, 1, 0, 1, 0, 1, \n",
        "                     1, 0, 1, 0, 1, 0, 1, 0, 1, 0,\n",
        "                     0, 1, 0, 1, 0, 1, 0, 1, 0, 1, \n",
        "                     1, 0, 1, 0, 1, 0, 1, 0, 1, 0 ] "
      ]
    },
    {
      "cell_type": "code",
      "execution_count": 17,
      "metadata": {
        "trusted": true
      },
      "outputs": [],
      "source": [
        "partie_err = [\n",
        "            0, 0, 0, 1, 0, 0, 0, 1, 0, 1, \n",
        "            1, 0, 1, 0, 1, 0, 0, 0, 1, 0,\n",
        "            0, 0, 0, 1, 0, 1, 0, 1, 0, 1, \n",
        "            1, 1, 1, 0, 1, 0, 0, 0, 1, 0,\n",
        "            0, 1, 0, 1, 0, 0, 0, 0, 0, 0, \n",
        "            0, 0, 1, 0, 2, 0, 2, 0, 0, 0, \n",
        "            0, 0, 0, 0, 0, 2, 0, 0, 0, 2, \n",
        "            2, 2, 0, 0, 0, 0, 2, 0, 0, 0,\n",
        "            0, 0, 0, 2, 0, 2, 0, 2, 0, 2, \n",
        "            2, 0, 2, 0, 2, 0, 2, 0, 2, 0 ] "
      ]
    },
    {
      "cell_type": "code",
      "execution_count": 26,
      "metadata": {
        "trusted": true
      },
      "outputs": [],
      "source": [
        "## Votre code ici \n",
        "\n",
        "def test_plateau(plateau):\n",
        "    \"\"\" Teste si le plateau est valide. \"\"\"\n",
        "\n",
        "    # Interdit 1: Cherche si un pion est une case blanche.   \n",
        "    for idx, color in enumerate(plateau):\n",
        "        \n",
        "        # Si il y a un pion \n",
        "        if color == 1 or color == 2:\n",
        "          \n",
        "          if couleurs_plateau[idx] == 0:\n",
        "              print(\"Un pion est sur une case blanche\")\n",
        "              return False \n",
        "    return True\n",
        "          "
      ]
    },
    {
      "cell_type": "code",
      "execution_count": 25,
      "metadata": {
        "trusted": true
      },
      "outputs": [
        {
          "name": "stdout",
          "output_type": "stream",
          "text": [
            "Test partie err\n",
            "Un pion est sur une case blanche\n",
            "test partie 1\n"
          ]
        },
        {
          "data": {
            "text/plain": [
              "True"
            ]
          },
          "execution_count": 25,
          "metadata": {},
          "output_type": "execute_result"
        }
      ],
      "source": [
        "print(\"Test partie err\")\n",
        "test_plateau(partie_err)\n",
        "\n",
        "print(\"test partie 1\")\n",
        "test_plateau(partie_1) \n"
      ]
    },
    {
      "cell_type": "code",
      "execution_count": null,
      "metadata": {},
      "outputs": [],
      "source": []
    }
  ],
  "metadata": {
    "kernelspec": {
      "display_name": "Python 3",
      "language": "python",
      "name": "python3"
    },
    "language_info": {
      "codemirror_mode": {
        "name": "ipython",
        "version": 3
      },
      "file_extension": ".py",
      "mimetype": "text/x-python",
      "name": "python",
      "nbconvert_exporter": "python",
      "pygments_lexer": "ipython3",
      "version": "3.11.5"
    }
  },
  "nbformat": 4,
  "nbformat_minor": 4
}
