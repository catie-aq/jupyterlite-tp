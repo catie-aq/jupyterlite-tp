{
  "metadata": {
    "language_info": {
      "codemirror_mode": {
        "name": "python",
        "version": 3
      },
      "file_extension": ".py",
      "mimetype": "text/x-python",
      "name": "python",
      "nbconvert_exporter": "python",
      "pygments_lexer": "ipython3",
      "version": "3.8"
    },
    "kernelspec": {
      "name": "python",
      "display_name": "Python (Pyodide)",
      "language": "python"
    }
  },
  "nbformat_minor": 4,
  "nbformat": 4,
  "cells": [
    {
      "cell_type": "markdown",
      "source": "## Dames en Python \n\nDans ce tutoriel, vous allez apprendre comment créer un plateau pour un jeu de dames en utilisant le langage de programmation Python. Par ailleurs, nous allons aborder comment manipuler le tableau qui représente le plateau de jeu, les cases, et les pions.\n\nLe jeu de dames se joue sur un plateau de 10×10, alternant des cases blanches et noires. Les pions sont soit blancs, soit noirs.\n\nPour lire un tableau de pions: \n* `0` pas de pion\n* `1` pion noir \n* `2` pion blanc",
      "metadata": {}
    },
    {
      "cell_type": "markdown",
      "source": "## Plateaux de jeu ",
      "metadata": {}
    },
    {
      "cell_type": "code",
      "source": "# 0 pas de pion, 1 noir, 2 blanc \npions_initial = [0, 1, 0, 1, 0, 1, 0, 1, 0, 1, \n                 1, 0, 1, 0, 1, 0, 1, 0, 1, 0,\n                 0, 1, 0, 1, 0, 1, 0, 1, 0, 1, \n                 1, 0, 1, 0, 1, 0, 1, 0, 1, 0,\n                 0, 0, 0, 0, 0, 0, 0, 0, 0, 0, \n                 0, 0, 0, 0, 0, 0, 0, 0, 0, 0, \n                 0, 2, 0, 2, 0, 2, 0, 2, 0, 2, \n                 2, 0, 2, 0, 2, 0, 2, 0, 2, 0,\n                 0, 2, 0, 2, 0, 2, 0, 2, 0, 2, \n                 2, 0, 2, 0, 2, 0, 2, 0, 2, 0 ] ",
      "metadata": {
        "trusted": true
      },
      "execution_count": 13,
      "outputs": []
    },
    {
      "cell_type": "code",
      "source": "partie_1 = [\n            0, 0, 0, 1, 0, 0, 0, 1, 0, 1, \n            1, 0, 1, 0, 1, 0, 0, 0, 1, 0,\n            0, 0, 0, 1, 0, 1, 0, 1, 0, 1, \n            1, 0, 1, 0, 1, 0, 0, 0, 1, 0,\n            0, 1, 0, 1, 0, 0, 0, 0, 0, 0, \n            0, 0, 1, 0, 2, 0, 2, 0, 0, 0, \n            0, 0, 0, 0, 0, 2, 0, 0, 0, 2, \n            2, 0, 0, 0, 0, 0, 2, 0, 0, 0,\n            0, 0, 0, 2, 0, 2, 0, 2, 0, 2, \n            2, 0, 2, 0, 2, 0, 2, 0, 2, 0 ] ",
      "metadata": {
        "trusted": true
      },
      "execution_count": 14,
      "outputs": []
    },
    {
      "cell_type": "markdown",
      "source": "## Exercice 1 \n\nComptez le nombre de pions noirs et blancs pour le plateau `pions_initial` et pour la `partie_1`. \n\n### Aides: \n\nCréez des variables pour compter les pions: \nhttps://python.sdv.univ-paris-diderot.fr/02_variables/ \n\nFaites une boucle pour itérer sur les cases du plateau:\nhttps://python.sdv.univ-paris-diderot.fr/05_boucles_comparaisons/",
      "metadata": {}
    },
    {
      "cell_type": "code",
      "source": "## Votre code ici. ",
      "metadata": {
        "trusted": true
      },
      "execution_count": 11,
      "outputs": []
    },
    {
      "cell_type": "markdown",
      "source": "## Exercice 2 \n\nAffichez si le joueur blanc ou le joueur noir est plus proche de la victoire \njuste en comptant les pions. \n\nAffichez un texte avec `print()` et faites les conditions avec `if`. ",
      "metadata": {}
    },
    {
      "cell_type": "code",
      "source": "## Votre code ici ",
      "metadata": {},
      "execution_count": null,
      "outputs": []
    },
    {
      "cell_type": "markdown",
      "source": "## Exercice 3 \n\nOn notera les cases noires et blanches avec des `0` et des `1` dans le tableau de référence.\nLe plateau `couleurs_plateau` représente les couleurs du plateau de jeu **sans les pions**. \n\nÉcrivez du code pour vérifier si le plateau est valide. \nDans le jeu de dames, les pions ne sont placés que sur des cases noires !\n\nLe plateau `plateau_err` est proposé comme plateau invalide. Faites un message d'erreur qui indique le problème. ",
      "metadata": {}
    },
    {
      "cell_type": "code",
      "source": "# 0 Blanc, 1, noir. \ncouleurs_plateau =  [0, 1, 0, 1, 0, 1, 0, 1, 0, 1, \n                     1, 0, 1, 0, 1, 0, 1, 0, 1, 0,\n                     0, 1, 0, 1, 0, 1, 0, 1, 0, 1, \n                     1, 0, 1, 0, 1, 0, 1, 0, 1, 0,\n                     0, 1, 0, 1, 0, 1, 0, 1, 0, 1, \n                     1, 0, 1, 0, 1, 0, 1, 0, 1, 0,\n                     0, 1, 0, 1, 0, 1, 0, 1, 0, 1, \n                     1, 0, 1, 0, 1, 0, 1, 0, 1, 0,\n                     0, 1, 0, 1, 0, 1, 0, 1, 0, 1, \n                     1, 0, 1, 0, 1, 0, 1, 0, 1, 0 ] ",
      "metadata": {
        "trusted": true
      },
      "execution_count": 12,
      "outputs": []
    },
    {
      "cell_type": "code",
      "source": "partie_err = [\n            0, 0, 0, 1, 0, 0, 0, 1, 0, 1, \n            1, 0, 1, 0, 1, 0, 0, 0, 1, 0,\n            0, 0, 0, 1, 0, 1, 0, 1, 0, 1, \n            1, 1, 1, 0, 1, 0, 0, 0, 1, 0,\n            0, 1, 0, 1, 0, 0, 0, 0, 0, 0, \n            0, 0, 1, 0, 2, 0, 2, 0, 0, 0, \n            0, 0, 0, 0, 0, 2, 0, 0, 0, 2, \n            2, 2, 0, 0, 0, 0, 2, 0, 0, 0,\n            0, 0, 0, 2, 0, 2, 0, 2, 0, 2, \n            2, 0, 2, 0, 2, 0, 2, 0, 2, 0 ] ",
      "metadata": {
        "trusted": true
      },
      "execution_count": 16,
      "outputs": []
    },
    {
      "cell_type": "code",
      "source": "## Votre code ici \n\ndef test_plateau(plateau):\n    print(\"implémentation à faire\")\n",
      "metadata": {
        "trusted": true
      },
      "execution_count": 19,
      "outputs": []
    },
    {
      "cell_type": "code",
      "source": "test_plateau(partie_err)\ntest_plateau(partie_1) ",
      "metadata": {
        "trusted": true
      },
      "execution_count": 20,
      "outputs": [
        {
          "name": "stdout",
          "text": "implémentation à faire\nimplémentation à faire\n",
          "output_type": "stream"
        }
      ]
    }
  ]
}