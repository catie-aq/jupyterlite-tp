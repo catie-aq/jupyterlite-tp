{
  "cells": [
    {
      "cell_type": "markdown",
      "metadata": {},
      "source": [
        "# Cotation \n",
        "\n",
        "La cotation dans Peac²h se fait soit en Python, Javascript ou Ruby. \n",
        "\n",
        "Dans ce TP, on va créer des cotations liées à des exemples factices et réels."
      ]
    },
    {
      "cell_type": "markdown",
      "metadata": {},
      "source": [
        "### Questionnaire sans cotation\n",
        "\n",
        "Quand on crée un questionnaire, les sorties sont difficilement lisibles par défaut.\n",
        "\n",
        "Adresse: https://expe.peac2h.io/surveys/89\n",
        "\n",
        "Exemple de résultat: \n",
        "\n",
        "``` json \n",
        "{\n",
        "    \"question1\": {\n",
        "        \"item1\": \"-2\"\n",
        "    },\n",
        "    \"question7\": {\n",
        "        \"item1\": \"0\"\n",
        "    },\n",
        "    \"question3\": {\n",
        "        \"item1\": \"-1\"\n",
        "    },\n",
        "    \"question8\": {\n",
        "        \"item1\": \"1\"\n",
        "    },\n",
        "    \"question4\": {\n",
        "        \"item1\": \"0\"\n",
        "    },\n",
        "    \"question5\": {\n",
        "        \"item1\": \"-2\"\n",
        "    },\n",
        "    \"question9\": {\n",
        "        \"item1\": \"1\"\n",
        "    }\n",
        "}\n",
        "```"
      ]
    },
    {
      "cell_type": "markdown",
      "metadata": {},
      "source": [
        "### Questionnaire modifié \n",
        "\n",
        "Voilà des résultats du même questionnaire avec les questions et éléments ajustés.\n",
        "\n",
        "Adresse: https://expe.peac2h.io/surveys/90 \n",
        "\n",
        "Exemple de résultat:\n",
        "\n",
        "``` json \n",
        "{\n",
        "    \"lire\": {\n",
        "        \"lire\": \"-2\"\n",
        "    },\n",
        "    \"visu\": [\n",
        "        \"oui\"\n",
        "    ],\n",
        "    \"contrastes\": [\n",
        "        \"oui\"\n",
        "    ],\n",
        "    \"vitesse\": {\n",
        "        \"vitesse\": \"-1\"\n",
        "    },\n",
        "    \"qualite\": {\n",
        "        \"qualite\": \"1\"\n",
        "    }\n",
        "}\n",
        "```"
      ]
    },
    {
      "cell_type": "markdown",
      "metadata": {},
      "source": [
        "## Cotations dans Peac2h\n",
        "\n",
        "Les cotations dans Peac²h passent pas l'entrée et la sortie standard. Ici on va la travailler directement \n",
        "dans le Notebook, puis elle sera transformée pour coter en ligne.\n",
        "\n",
        "Les cotations sont ajoutées aux résultats, il ne faut **pas utiliser les mêmes clés** que pour les données. \n",
        "\n",
        "Voilà un début de cotation pour les données ci-dessus."
      ]
    },
    {
      "cell_type": "code",
      "execution_count": 2,
      "metadata": {
        "trusted": true
      },
      "outputs": [],
      "source": [
        "import json\n",
        "\n",
        "## Utilisation de triple quotes pour charger le JSON en texte.\n",
        "result = '''\n",
        "{\n",
        "    \"lire\": {\n",
        "        \"lire\": \"-2\"\n",
        "    },\n",
        "    \"visu\": [\n",
        "        \"oui\"\n",
        "    ],\n",
        "    \"contrastes\": [\n",
        "        \"oui\"\n",
        "    ],\n",
        "    \"vitesse\": {\n",
        "        \"vitesse\": \"-1\"\n",
        "    },\n",
        "    \"qualite\": {\n",
        "        \"qualite\": \"1\"\n",
        "    } \n",
        "} '''\n",
        "\n",
        "data = json.loads(result) "
      ]
    },
    {
      "cell_type": "code",
      "execution_count": 3,
      "metadata": {
        "trusted": true
      },
      "outputs": [
        {
          "name": "stdout",
          "output_type": "stream",
          "text": [
            "<class 'dict'>\n",
            "{'lire': {'lire': '-2'}, 'visu': ['oui'], 'contrastes': ['oui'], 'vitesse': {'vitesse': '-1'}, 'qualite': {'qualite': '1'}}\n"
          ]
        }
      ],
      "source": [
        "print(type(data))\n",
        "print(data)"
      ]
    },
    {
      "cell_type": "markdown",
      "metadata": {},
      "source": [
        "## Créez une cotation \n",
        "\n",
        "Complétez les cellules ci-dessous pour calculer une cotation.     "
      ]
    },
    {
      "cell_type": "code",
      "execution_count": 4,
      "metadata": {
        "trusted": true
      },
      "outputs": [
        {
          "name": "stdout",
          "output_type": "stream",
          "text": [
            "-2\n"
          ]
        }
      ],
      "source": [
        "# Lecture des données: \n",
        "# Initialisation du score\n",
        "score = 0\n",
        "\n",
        "# Conversion en nombre\n",
        "lire_val = int(data[\"lire\"][\"lire\"])\n",
        "\n",
        "## Ajout de la réponse à première question\n",
        "score = score + lire_val\n",
        "print(\"score juste avec lire: \", score)\n",
        "\n",
        "## Ajout de la réponse à seconde question\n",
        "visu_oui = data[\"visu\"] == ['oui']\n",
        "if(visu_oui):\n",
        "    score = score + 2\n",
        "print(\"score juste avec lire et visu: \", score)\n",
        "\n",
        "## Ajout de la réponse à troisième question\n",
        "contrastes_oui = data[\"contrastes\"] == ['oui']\n",
        "if(contrastes_oui):\n",
        "    score = score + 2\n",
        "print(\"score juste avec lire, visu et contrastes: \", score)\n"
      ]
    },
    {
      "cell_type": "code",
      "execution_count": 6,
      "metadata": {
        "trusted": true
      },
      "outputs": [
        {
          "name": "stdout",
          "output_type": "stream",
          "text": [
            "{'scoreA': -6}\n"
          ]
        }
      ],
      "source": [
        "### Corrigé initial \n",
        "\n",
        "lecture = int(data[\"lire\"][\"lire\"]) \n",
        "vitesse = int(data[\"vitesse\"][\"vitesse\"]) \n",
        "qualite = int(data[\"qualite\"][\"qualite\"]) \n",
        "visu = data[\"visu\"] == ['oui'] \n",
        "contrast = data[\"contrastes\"] == ['oui']\n",
        "\n",
        "lecture_amt = 2 if lecture > 0 else -2\n",
        "visu_amt = 2 if lecture > 0 else -2\n",
        "\n",
        "cotation = {} \n",
        "cotation[\"scoreA\"] = lecture + vitesse + qualite + visu_amt + lecture_amt\n",
        "print(cotation)"
      ]
    },
    {
      "cell_type": "markdown",
      "metadata": {},
      "source": [
        "# Cotation Nasa-TLX \n",
        "\n",
        "Le questionnaire NASA-TLX a une cotation qui est peu plus compliquée à calculer. \n",
        "Il est décrit dans le PDF ci-dessous avec sa cotation: \n",
        "\n",
        "[NASA-TLX.pdf](./Questionnaire%20NASA%20-%20TLX.pdf)\n",
        "\n"
      ]
    },
    {
      "cell_type": "markdown",
      "metadata": {},
      "source": [
        "### Version courte :\n",
        "\n",
        "https://app.peac2h.io/surveys/255 \n",
        "\n",
        "Exemple de résultats avant cotation.\n",
        "\n",
        "``` json \n",
        "{\n",
        "    \"Exigence mentale\": 66,\n",
        "    \"Exigence physique\": 34,\n",
        "    \"Exigence temporelle\": 63,\n",
        "    \"Performance\": 61,\n",
        "    \"Effort\": 66,\n",
        "    \"Niveau de frustration\": 34\n",
        "}\n",
        "```"
      ]
    },
    {
      "cell_type": "markdown",
      "metadata": {},
      "source": [
        "### Version normale \n",
        "\n",
        "https://app.peac2h.io/surveys/99\n",
        "\n",
        "Exemple de résultat avant cotation.\n",
        "\n",
        "``` json \n",
        "{\n",
        "    \"Choix 1\": \"Exigence physique\",\n",
        "    \"Choix 2\": \"Exigence mentale\",\n",
        "    \"Choix 3\": \"Exigence physique\",\n",
        "    \"Choix 4\": \"Effort\",\n",
        "    \"Choix 5\": \"Niveau de frustration\",\n",
        "    \"Choix 6\": \"Exigence physique\",\n",
        "    \"Choix 7\": \"Effort\",\n",
        "    \"Choix 8\": \"Performance\",\n",
        "    \"Choix 9\": \"Niveau de frustration\",\n",
        "    \"Choix 10\": \"Exigence mentale\",\n",
        "    \"Choix 11\": \"Exigence physique\",\n",
        "    \"Choix 12\": \"Exigence physique\",\n",
        "    \"Choix 13\": \"Effort\",\n",
        "    \"Choix 14\": \"Exigence temporelle\",\n",
        "    \"Choix 15\": \"Niveau de frustration\",\n",
        "    \"Exigence mentale\": 64,\n",
        "    \"Exigence physique\": 32,\n",
        "    \"Exigence temporelle\": 62,\n",
        "    \"Performance\": 73,\n",
        "    \"Effort\": 73,\n",
        "    \"Niveau de frustration\": 33\n",
        "}\n",
        "```"
      ]
    },
    {
      "cell_type": "markdown",
      "metadata": {},
      "source": [
        "**Écrivez un code de cotation pour le Nasa-TLX** "
      ]
    },
    {
      "cell_type": "code",
      "execution_count": 14,
      "metadata": {},
      "outputs": [],
      "source": [
        "# Chargement des donnée s\n",
        "\n",
        "import json\n",
        "\n",
        "## Utilisation de triple quotes pour charger le JSON en texte.\n",
        "result = '''\n",
        "{\n",
        "    \"Choix 1\": \"Exigence physique\",\n",
        "    \"Choix 2\": \"Exigence mentale\",\n",
        "    \"Choix 3\": \"Exigence physique\",\n",
        "    \"Choix 4\": \"Effort\",\n",
        "    \"Choix 5\": \"Niveau de frustration\",\n",
        "    \"Choix 6\": \"Exigence physique\",\n",
        "    \"Choix 7\": \"Effort\",\n",
        "    \"Choix 8\": \"Performance\",\n",
        "    \"Choix 9\": \"Niveau de frustration\",\n",
        "    \"Choix 10\": \"Exigence mentale\",\n",
        "    \"Choix 11\": \"Exigence physique\",\n",
        "    \"Choix 12\": \"Exigence physique\",\n",
        "    \"Choix 13\": \"Effort\",\n",
        "    \"Choix 14\": \"Exigence temporelle\",\n",
        "    \"Choix 15\": \"Niveau de frustration\",\n",
        "    \"Exigence mentale\": 64,\n",
        "    \"Exigence physique\": 32,\n",
        "    \"Exigence temporelle\": 62,\n",
        "    \"Performance\": 73,\n",
        "    \"Effort\": 73,\n",
        "    \"Niveau de frustration\": 33\n",
        "} '''\n",
        "\n",
        "\n",
        "data = json.loads(result) "
      ]
    },
    {
      "cell_type": "code",
      "execution_count": 16,
      "metadata": {},
      "outputs": [
        {
          "name": "stdout",
          "output_type": "stream",
          "text": [
            "Somme des cotations:  741 cotation finale :  49.4\n"
          ]
        }
      ],
      "source": [
        "## Corrigé initial\n",
        "\n",
        "import json\n",
        "\n",
        "## Dictionnaire de poids \n",
        "poids = {} \n",
        "# Initialisationspoids[\"Exigence physique\"] = 0;poids[\"Performance\"] = 0;\n",
        "\n",
        "poids[\"Niveau de frustration\"] = 0\n",
        "poids[\"Exigence physique\"] = 0\n",
        "poids[\"Exigence mentale\"] = 0\n",
        "poids[\"Exigence temporelle\"] = 0\n",
        "poids[\"Performance\"] = 0\n",
        "poids[\"Effort\"] = 0\n",
        "\n",
        "# on trouve le nom de la cotation, et on ajoute au compteur\n",
        "# poids[data[\"Choix 1\"]] = poids[data[\"Choix 1\"]] + 1\n",
        "\n",
        "for nom, valeur in data.items(): \n",
        "  if nom.startswith(\"Choix\"):\n",
        "    poids[valeur] = poids[valeur] + 1\n",
        "\n",
        "\n",
        "cotation = {}\n",
        "cotation[\"Exigence physique\"] = poids[\"Exigence physique\"] * data[\"Exigence physique\"]\n",
        "cotation[\"Performance\"] = poids[\"Performance\"] * data[\"Performance\"]\n",
        "cotation[\"Exigence mentale\"] = poids[\"Exigence mentale\"] * data[\"Exigence mentale\"]\n",
        "cotation[\"Exigence temporelle\"] = poids[\"Exigence temporelle\"] * data[\"Exigence temporelle\"]\n",
        "cotation[\"Niveau de frustration\"] = poids[\"Niveau de frustration\"] * data[\"Niveau de frustration\"]\n",
        "cotation[\"Effort\"] = poids[\"Effort\"] * data[\"Effort\"]\n",
        "\n",
        "somme = cotation[\"Exigence physique\"] + cotation[\"Performance\"] + cotation[\"Exigence mentale\"] + cotation[\"Exigence temporelle\"] + cotation[\"Niveau de frustration\"] + cotation[\"Effort\"]\n",
        "cotation_finale = somme / 15\n",
        "print(\"Somme des cotations: \", somme, \"cotation finale : \", cotation_finale)"
      ]
    },
    {
      "cell_type": "markdown",
      "metadata": {},
      "source": [
        "## Corrigé pendant le TP"
      ]
    },
    {
      "cell_type": "code",
      "execution_count": 7,
      "metadata": {},
      "outputs": [
        {
          "name": "stdout",
          "output_type": "stream",
          "text": [
            "chargement terminé\n"
          ]
        }
      ],
      "source": [
        "import json\n",
        "\n",
        "## Utilisation de triple quotes pour charger le JSON en texte.\n",
        "result = '''\n",
        "{\n",
        "    \"Choix 1\": \"Exigence physique\",\n",
        "    \"Choix 2\": \"Exigence mentale\",\n",
        "    \"Choix 3\": \"Exigence physique\",\n",
        "    \"Choix 4\": \"Effort\",\n",
        "    \"Choix 5\": \"Niveau de frustration\",\n",
        "    \"Choix 6\": \"Exigence physique\",\n",
        "    \"Choix 7\": \"Effort\",\n",
        "    \"Choix 8\": \"Performance\",\n",
        "    \"Choix 9\": \"Niveau de frustration\",\n",
        "    \"Choix 10\": \"Exigence mentale\",\n",
        "    \"Choix 11\": \"Exigence physique\",\n",
        "    \"Choix 12\": \"Exigence physique\",\n",
        "    \"Choix 13\": \"Effort\",\n",
        "    \"Choix 14\": \"Exigence temporelle\",\n",
        "    \"Choix 15\": \"Niveau de frustration\",\n",
        "    \"Exigence mentale\": 64,\n",
        "    \"Exigence physique\": 32,\n",
        "    \"Exigence temporelle\": 62,\n",
        "    \"Performance\": 73,\n",
        "    \"Effort\": 73,\n",
        "    \"Niveau de frustration\": 33\n",
        "}\n",
        "'''\n",
        "\n",
        "data = json.loads(result) \n",
        "print(\"chargement terminé\")"
      ]
    },
    {
      "cell_type": "code",
      "execution_count": 19,
      "metadata": {},
      "outputs": [
        {
          "name": "stdout",
          "output_type": "stream",
          "text": [
            "Score final:  49.4\n"
          ]
        }
      ],
      "source": [
        "## JSON chargé dans data. \n",
        "\n",
        "score_exigence_mentale = data[\"Exigence mentale\"]\n",
        "poids_exigence_mentale = 0\n",
        "score_pondere_exigence_mentale = 0\n",
        "\n",
        "score_exigence_temporelle = data[\"Exigence temporelle\"]\n",
        "poids_exigence_temporelle = 0\n",
        "score_pondere_exigence_temporelle = 0\n",
        "\n",
        "## Performance\n",
        "score_performance = data[\"Performance\"]\n",
        "poids_performance = 0\n",
        "score_pondere_performance = 0\n",
        "\n",
        "## Effort\n",
        "score_effort = data[\"Effort\"]\n",
        "poids_effort = 0\n",
        "score_pondere_effort = 0\n",
        "\n",
        "## Niveau de frustration\n",
        "score_niveau_frustration = data[\"Niveau de frustration\"]\n",
        "poids_niveau_frustration = 0\n",
        "score_pondere_niveau_frustration = 0\n",
        "\n",
        "score_exigence_physique = data[\"Exigence physique\"]\n",
        "poids_exigence_physique = 0\n",
        "score_pondere_exigence_physique = 0\n",
        "\n",
        "## Compte des poids de l’exigence mentale\n",
        "for score in data: \n",
        "    nom = score \n",
        "    valeur = data[score]\n",
        "\n",
        "    if valeur == \"Exigence mentale\": \n",
        "        poids_exigence_mentale = poids_exigence_mentale + 1\n",
        "    \n",
        "    if valeur == \"Exigence temporelle\": \n",
        "        poids_exigence_temporelle = poids_exigence_temporelle+ 1\n",
        "        \n",
        "    if valeur == \"Performance\": \n",
        "        poids_performance = poids_performance+ 1\n",
        "        \n",
        "    if valeur == \"Effort\": \n",
        "        poids_effort = poids_effort+ 1\n",
        "        \n",
        "    if valeur == \"Niveau de frustration\": \n",
        "        poids_niveau_frustration = poids_niveau_frustration+ 1\n",
        "        \n",
        "    if valeur == \"Exigence physique\": \n",
        "        poids_exigence_physique = poids_exigence_physique+ 1\n",
        "        \n",
        "    ## 5 autres\n",
        "\n",
        "score_pondere_exigence_mentale = score_exigence_mentale * poids_exigence_mentale\n",
        "\n",
        "score_pondere_exigence_temporelle = score_exigence_temporelle * poids_exigence_temporelle\n",
        "\n",
        "score_pondere_performance = score_performance * poids_performance\n",
        "\n",
        "score_pondere_effort = score_effort * poids_effort\n",
        "\n",
        "score_pondere_niveau_frustration = score_niveau_frustration * poids_niveau_frustration\n",
        "\n",
        "score_pondere_exigence_physique = score_exigence_physique * poids_exigence_physique\n",
        "\n",
        "score_final = score_pondere_exigence_mentale + score_pondere_exigence_temporelle + \\\n",
        "              score_pondere_performance + score_pondere_effort + \\\n",
        "              score_pondere_niveau_frustration + score_pondere_exigence_physique\n",
        "\n",
        "print(\"Score final: \", score_final / 15)\n",
        "\n",
        "            "
      ]
    }
  ],
  "metadata": {
    "kernelspec": {
      "display_name": "Python 3",
      "language": "python",
      "name": "python3"
    },
    "language_info": {
      "codemirror_mode": {
        "name": "ipython",
        "version": 3
      },
      "file_extension": ".py",
      "mimetype": "text/x-python",
      "name": "python",
      "nbconvert_exporter": "python",
      "pygments_lexer": "ipython3",
      "version": "3.10.9"
    }
  },
  "nbformat": 4,
  "nbformat_minor": 4
}
