{
  "cells": [
    {
      "cell_type": "markdown",
      "metadata": {},
      "source": [
        "# Cotation \n",
        "\n",
        "La cotation dans Peac²h se fait soit en Python, Javascript ou Ruby. \n",
        "\n",
        "Dans ce TP, on va créer des cotations liées à des exemples factices et réels."
      ]
    },
    {
      "cell_type": "markdown",
      "metadata": {},
      "source": [
        "### Questionnaire sans cotation\n",
        "\n",
        "Quand on crée un questionnaire, les sorties sont difficilement lisibles par défaut.\n",
        "\n",
        "Adresse: https://expe.peac2h.io/surveys/89\n",
        "\n",
        "Exemple de résultat: \n",
        "\n",
        "``` json \n",
        "{\n",
        "    \"question1\": {\n",
        "        \"item1\": \"-2\"\n",
        "    },\n",
        "    \"question7\": {\n",
        "        \"item1\": \"0\"\n",
        "    },\n",
        "    \"question3\": {\n",
        "        \"item1\": \"-1\"\n",
        "    },\n",
        "    \"question8\": {\n",
        "        \"item1\": \"1\"\n",
        "    },\n",
        "    \"question4\": {\n",
        "        \"item1\": \"0\"\n",
        "    },\n",
        "    \"question5\": {\n",
        "        \"item1\": \"-2\"\n",
        "    },\n",
        "    \"question9\": {\n",
        "        \"item1\": \"1\"\n",
        "    }\n",
        "}\n",
        "```"
      ]
    },
    {
      "cell_type": "markdown",
      "metadata": {},
      "source": [
        "### Questionnaire modifié \n",
        "\n",
        "Voilà des résultats du même questionnaire avec les questions et éléments ajustés.\n",
        "\n",
        "Adresse: https://expe.peac2h.io/surveys/90 \n",
        "\n",
        "Exemple de résultat:\n",
        "\n",
        "``` json \n",
        "{\n",
        "    \"lire\": {\n",
        "        \"lire\": \"-2\"\n",
        "    },\n",
        "    \"visu\": [\n",
        "        \"oui\"\n",
        "    ],\n",
        "    \"contrastes\": [\n",
        "        \"oui\"\n",
        "    ],\n",
        "    \"vitesse\": {\n",
        "        \"vitesse\": \"-1\"\n",
        "    },\n",
        "    \"qualite\": {\n",
        "        \"qualite\": \"1\"\n",
        "    }\n",
        "}\n",
        "```"
      ]
    },
    {
      "cell_type": "markdown",
      "metadata": {},
      "source": [
        "## Cotations dans Peac2h\n",
        "\n",
        "Les cotations dans Peac²h passent pas l'entrée et la sortie standard. Ici on va la travailler directement \n",
        "dans le Notebook, puis elle sera transformée pour coter en ligne.\n",
        "\n",
        "Les cotations sont ajoutées aux résultats, il ne faut **pas utiliser les mêmes clés** que pour les données. \n",
        "\n",
        "Voilà un début de cotation pour les données ci-dessus."
      ]
    },
    {
      "cell_type": "code",
      "execution_count": 10,
      "metadata": {
        "trusted": true
      },
      "outputs": [],
      "source": [
        "import json\n",
        "\n",
        "## Utilisation de triple quotes pour charger le JSON en texte.\n",
        "result = '''\n",
        "{\n",
        "    \"lire\": {\n",
        "        \"lire\": \"-2\"\n",
        "    },\n",
        "    \"visu\": [\n",
        "        \"oui\"\n",
        "    ],\n",
        "    \"contrastes\": [\n",
        "        \"oui\"\n",
        "    ],\n",
        "    \"vitesse\": {\n",
        "        \"vitesse\": \"-1\"\n",
        "    },\n",
        "    \"qualite\": {\n",
        "        \"qualite\": \"1\"\n",
        "    } \n",
        "} '''\n",
        "\n",
        "data = json.loads(result) "
      ]
    },
    {
      "cell_type": "code",
      "execution_count": 27,
      "metadata": {
        "trusted": true
      },
      "outputs": [
        {
          "name": "stdout",
          "output_type": "stream",
          "text": [
            "<class 'dict'>\n",
            "{'lire': {'lire': '-2'}, 'visu': ['oui'], 'contrastes': ['oui'], 'vitesse': {'vitesse': '-1'}, 'qualite': {'qualite': '1'}}\n"
          ]
        }
      ],
      "source": [
        "print(type(data))\n",
        "print(data)"
      ]
    },
    {
      "cell_type": "markdown",
      "metadata": {},
      "source": [
        "## Créez une cotation \n",
        "\n",
        "Complétez les cellules ci-dessous pour calculer une cotation.     "
      ]
    },
    {
      "cell_type": "code",
      "execution_count": 15,
      "metadata": {
        "trusted": true
      },
      "outputs": [
        {
          "name": "stdout",
          "output_type": "stream",
          "text": [
            "-2\n"
          ]
        }
      ],
      "source": [
        "# Lecture des données: \n",
        "\n",
        "# Conversion en nombre\n",
        "lire_val = int(data[\"lire\"][\"lire\"])\n",
        "print(lire_val)"
      ]
    },
    {
      "cell_type": "code",
      "execution_count": 24,
      "metadata": {
        "trusted": true
      },
      "outputs": [
        {
          "name": "stdout",
          "output_type": "stream",
          "text": [
            "True\n"
          ]
        }
      ],
      "source": [
        "# Conversion en booléen\n",
        "visu = data[\"visu\"] == ['oui'] \n",
        "print(visu)"
      ]
    },
    {
      "cell_type": "code",
      "execution_count": 26,
      "metadata": {
        "trusted": true
      },
      "outputs": [
        {
          "name": "stdout",
          "output_type": "stream",
          "text": [
            "{'scoreA': -2}\n"
          ]
        }
      ],
      "source": [
        "# Sortie finale \n",
        "\n",
        "cotation = {} \n",
        "cotation[\"scoreA\"] = lire_val\n",
        "print(cotation)"
      ]
    },
    {
      "cell_type": "markdown",
      "metadata": {},
      "source": [
        "# Cotation Nasa-TLX \n",
        "\n",
        "Le questionnaire NASA-TLX a une cotation qui est peu plus compliquée à calculer. \n",
        "Il est décrit dans le PDF ci-dessous avec sa cotation: \n",
        "\n",
        "[NASA-TLX.pdf](./Questionnaire%20NASA%20-%20TLX.pdf)\n",
        "\n"
      ]
    },
    {
      "cell_type": "markdown",
      "metadata": {},
      "source": [
        "### Version courte :\n",
        "\n",
        "https://app.peac2h.io/surveys/255 \n",
        "\n",
        "Exemple de résultats avant cotation.\n",
        "\n",
        "``` json \n",
        "{\n",
        "    \"Exigence mentale\": 66,\n",
        "    \"Exigence physique\": 34,\n",
        "    \"Exigence temporelle\": 63,\n",
        "    \"Performance\": 61,\n",
        "    \"Effort\": 66,\n",
        "    \"Niveau de frustration\": 34\n",
        "}\n",
        "```"
      ]
    },
    {
      "cell_type": "markdown",
      "metadata": {},
      "source": [
        "### Version normale \n",
        "\n",
        "https://app.peac2h.io/surveys/99\n",
        "\n",
        "Exemple de résultat avant cotation.\n",
        "\n",
        "``` json \n",
        "{\n",
        "    \"Choix 1\": \"Exigence physique\",\n",
        "    \"Choix 2\": \"Exigence mentale\",\n",
        "    \"Choix 3\": \"Exigence physique\",\n",
        "    \"Choix 4\": \"Effort\",\n",
        "    \"Choix 5\": \"Niveau de frustration\",\n",
        "    \"Choix 6\": \"Exigence physique\",\n",
        "    \"Choix 7\": \"Effort\",\n",
        "    \"Choix 8\": \"Performance\",\n",
        "    \"Choix 9\": \"Niveau de frustration\",\n",
        "    \"Choix 10\": \"Exigence mentale\",\n",
        "    \"Choix 11\": \"Exigence physique\",\n",
        "    \"Choix 12\": \"Exigence physique\",\n",
        "    \"Choix 13\": \"Effort\",\n",
        "    \"Choix 14\": \"Exigence temporelle\",\n",
        "    \"Choix 15\": \"Niveau de frustration\",\n",
        "    \"Exigence mentale\": 64,\n",
        "    \"Exigence physique\": 32,\n",
        "    \"Exigence temporelle\": 62,\n",
        "    \"Performance\": 73,\n",
        "    \"Effort\": 73,\n",
        "    \"Niveau de frustration\": 33\n",
        "}\n",
        "```"
      ]
    },
    {
      "cell_type": "markdown",
      "metadata": {},
      "source": [
        "**Écrivez un code de cotation pour le Nasa-TLX** "
      ]
    },
    {
      "cell_type": "code",
      "execution_count": null,
      "metadata": {},
      "outputs": [],
      "source": [
        "## Votre code ici"
      ]
    }
  ],
  "metadata": {
    "kernelspec": {
      "display_name": "Python (Pyodide)",
      "language": "python",
      "name": "python"
    },
    "language_info": {
      "codemirror_mode": {
        "name": "python",
        "version": 3
      },
      "file_extension": ".py",
      "mimetype": "text/x-python",
      "name": "python",
      "nbconvert_exporter": "python",
      "pygments_lexer": "ipython3",
      "version": "3.8"
    }
  },
  "nbformat": 4,
  "nbformat_minor": 4
}
