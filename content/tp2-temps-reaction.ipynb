{
 "cells": [
  {
   "cell_type": "markdown",
   "metadata": {},
   "source": [
    "# Temps de réaction \n",
    "\n",
    "Le temps de réaction est mesuré par l'application faite au dernier TP. \n",
    "C'est le temps entre l'apparition d'un indice visuel et le click enregistré. \n",
    "\n",
    "L'application n'étant pas incroyable, des fausses données arrivent dans le serveur. \n",
    "Vous aurez donc à : \n",
    "\n",
    "**Nettoyer les données**\n",
    "\n",
    "* Les temps négatifs. \n",
    "* Les temps supérieurs à 2s. \n",
    "\n",
    "**Récrire les données** \n",
    "\n",
    "Récrivez les données sur une autre clée. \n",
    "\n",
    "**Exporter les données**\n",
    "\n",
    "Créer un CSV en temps relatif avec les données."
   ]
  }
 ],
 "metadata": {
  "language_info": {
   "name": "python"
  },
  "orig_nbformat": 4
 },
 "nbformat": 4,
 "nbformat_minor": 2
}
